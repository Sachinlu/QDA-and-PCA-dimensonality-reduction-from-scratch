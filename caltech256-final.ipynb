{
 "cells": [
  {
   "cell_type": "markdown",
   "metadata": {
    "id": "FU15HDQtfYoM"
   },
   "source": [
    "##INSTRUCTION:\n",
    "\n",
    "\n",
    "1.   This program is trained and tested on the GPU environment. Plese make sure that your colab notebook is connected to GPU Runtime.\n",
    "2.  The main aim of the below network is to observe the major differences between training from scratch and Transfer Learning (using Pre-trained weights).\n",
    "\n",
    "\n"
   ]
  },
  {
   "cell_type": "markdown",
   "metadata": {
    "id": "atgtuTpymvNS"
   },
   "source": [
    "Student Deatils:"
   ]
  },
  {
   "cell_type": "code",
   "execution_count": 2,
   "metadata": {
    "execution": {
     "iopub.execute_input": "2021-11-16T20:09:51.709803Z",
     "iopub.status.busy": "2021-11-16T20:09:51.709412Z",
     "iopub.status.idle": "2021-11-16T20:09:51.718177Z",
     "shell.execute_reply": "2021-11-16T20:09:51.716593Z",
     "shell.execute_reply.started": "2021-11-16T20:09:51.709767Z"
    },
    "id": "AaawlwNlgrpG",
    "outputId": "bae1f894-b3fc-44f6-c575-3b904c7bb5be"
   },
   "outputs": [],
   "source": [
    "name = 'Sachin Singh'\n",
    "id = '1141124'\n",
    "print(f\"My name is : {name},\\n My student id : {id}\\nMy last digit of ID belongs to : {id[-1]}\\nDataset to be selected: Scene-15 dataset and Caltech256\")\n",
    "print(f\"My second last digit of ID belongs to : {id[-2]}\\nDCNN to be selected: DenseNet \")"
   ]
  },
  {
   "cell_type": "markdown",
   "metadata": {
    "id": "ujrW9-SwmndB"
   },
   "source": [
    "Importing All Important Libraries."
   ]
  },
  {
   "cell_type": "code",
   "execution_count": 3,
   "metadata": {
    "execution": {
     "iopub.execute_input": "2021-11-16T20:09:51.720364Z",
     "iopub.status.busy": "2021-11-16T20:09:51.719529Z",
     "iopub.status.idle": "2021-11-16T20:09:51.727670Z",
     "shell.execute_reply": "2021-11-16T20:09:51.726949Z",
     "shell.execute_reply.started": "2021-11-16T20:09:51.720328Z"
    },
    "id": "dGQX7P5ORh44"
   },
   "outputs": [],
   "source": [
    "from keras.preprocessing import image\n",
    "from tensorflow.keras.models import Model\n",
    "from tensorflow.keras.initializers import he_normal\n",
    "from tensorflow.keras.applications import DenseNet169\n",
    "from tensorflow.keras.layers import Input, Dense, Flatten, BatchNormalization, Dropout"
   ]
  },
  {
   "cell_type": "markdown",
   "metadata": {
    "id": "R7Y-TaRHplOK"
   },
   "source": [
    "Loading data, Converting images into RGB, Scalling, Batching"
   ]
  },
  {
   "cell_type": "code",
   "execution_count": 4,
   "metadata": {
    "execution": {
     "iopub.execute_input": "2021-11-16T20:09:56.508697Z",
     "iopub.status.busy": "2021-11-16T20:09:56.508400Z",
     "iopub.status.idle": "2021-11-16T20:09:56.515859Z",
     "shell.execute_reply": "2021-11-16T20:09:56.513171Z",
     "shell.execute_reply.started": "2021-11-16T20:09:56.508665Z"
    },
    "id": "98bf08ec"
   },
   "outputs": [],
   "source": [
    "def generator(dir, gen = image.ImageDataGenerator(rescale = 1./255, validation_split=0.2), shuffle = True,\n",
    "            batch_size = 1, target_size=(24, 24), class_mode = 'categorical', subset = None):\n",
    "    return gen.flow_from_directory(dir,batch_size=batch_size, shuffle=shuffle, color_mode='rgb',\n",
    "                                   class_mode=class_mode, target_size=target_size, subset=subset)"
   ]
  },
  {
   "cell_type": "markdown",
   "metadata": {
    "id": "nsJpF3-zp5w1"
   },
   "source": [
    "Defining Batch Size and Target Size"
   ]
  },
  {
   "cell_type": "code",
   "execution_count": 5,
   "metadata": {
    "execution": {
     "iopub.execute_input": "2021-11-16T20:09:58.775149Z",
     "iopub.status.busy": "2021-11-16T20:09:58.774695Z",
     "iopub.status.idle": "2021-11-16T20:09:58.779080Z",
     "shell.execute_reply": "2021-11-16T20:09:58.777919Z",
     "shell.execute_reply.started": "2021-11-16T20:09:58.775112Z"
    },
    "id": "cdb654cc"
   },
   "outputs": [],
   "source": [
    "BS = 32\n",
    "TS = (224, 224)"
   ]
  },
  {
   "cell_type": "markdown",
   "metadata": {
    "id": "EFGpVYW6p_do"
   },
   "source": [
    "**CALTECH256** \n",
    "\n",
    "Loading Data into Train and Validate batch.\n",
    "\n",
    "> total no of classes = 256\n",
    "\n",
    "> total no of images = 29,744 (after cleaning)\n",
    "\n",
    "Assignment 4 requirements \n",
    "\n",
    "> Randomly selecting approx 30 images per class for training.\n",
    "\n",
    "> Remaining images are used for testing."
   ]
  },
  {
   "cell_type": "code",
   "execution_count": 6,
   "metadata": {
    "execution": {
     "iopub.execute_input": "2021-11-16T20:10:01.717190Z",
     "iopub.status.busy": "2021-11-16T20:10:01.716455Z",
     "iopub.status.idle": "2021-11-16T20:10:04.617578Z",
     "shell.execute_reply": "2021-11-16T20:10:04.616785Z",
     "shell.execute_reply.started": "2021-11-16T20:10:01.717152Z"
    },
    "id": "38631469",
    "outputId": "c3b9c3e5-fd1a-41a4-b375-c709224f6707"
   },
   "outputs": [],
   "source": [
    "train_batch = generator('../input/caltech256-without-any-noise/256_ObjectCategories', shuffle=True, batch_size = BS, target_size = TS, subset='training')\n",
    "valid_batch = generator('../input/caltech256-without-any-noise/256_ObjectCategories', shuffle=True, batch_size = BS, target_size = TS, subset='validation')"
   ]
  },
  {
   "cell_type": "markdown",
   "metadata": {
    "id": "a6WJeE9ysIJm"
   },
   "source": [
    "Defining Input Shape"
   ]
  },
  {
   "cell_type": "code",
   "execution_count": 7,
   "metadata": {
    "execution": {
     "iopub.execute_input": "2021-11-16T20:10:05.667577Z",
     "iopub.status.busy": "2021-11-16T20:10:05.667309Z",
     "iopub.status.idle": "2021-11-16T20:10:05.673855Z",
     "shell.execute_reply": "2021-11-16T20:10:05.673023Z",
     "shell.execute_reply.started": "2021-11-16T20:10:05.667547Z"
    }
   },
   "outputs": [],
   "source": [
    "from tensorflow.keras.initializers import he_normal\n",
    "initial = he_normal(seed=32)"
   ]
  },
  {
   "cell_type": "code",
   "execution_count": 8,
   "metadata": {
    "execution": {
     "iopub.execute_input": "2021-11-16T20:10:08.289168Z",
     "iopub.status.busy": "2021-11-16T20:10:08.288585Z",
     "iopub.status.idle": "2021-11-16T20:10:08.293157Z",
     "shell.execute_reply": "2021-11-16T20:10:08.292049Z",
     "shell.execute_reply.started": "2021-11-16T20:10:08.289127Z"
    },
    "id": "00Boy8nEa8R4"
   },
   "outputs": [],
   "source": [
    "input_shape_densenet = (224, 224, 3)"
   ]
  },
  {
   "cell_type": "markdown",
   "metadata": {
    "id": "L5M7ZEtesTSj"
   },
   "source": [
    "Creating Model object with Weights None. (Training from Scratch).\n",
    "\n",
    "> When weights None. (Training from Scratch).\n",
    "\n",
    "> When weights = 'imagnet' (pre-trained weights, Transfer learning)"
   ]
  },
  {
   "cell_type": "code",
   "execution_count": 9,
   "metadata": {
    "execution": {
     "iopub.execute_input": "2021-11-16T20:10:12.354423Z",
     "iopub.status.busy": "2021-11-16T20:10:12.353850Z",
     "iopub.status.idle": "2021-11-16T20:10:17.662843Z",
     "shell.execute_reply": "2021-11-16T20:10:17.662068Z",
     "shell.execute_reply.started": "2021-11-16T20:10:12.354384Z"
    }
   },
   "outputs": [],
   "source": [
    "# comment if using pretarined\n",
    "densenet_model = DenseNet169(\n",
    "    include_top=False,\n",
    "    weights= None,\n",
    "    input_tensor=None,\n",
    "    input_shape=input_shape_densenet,\n",
    "    pooling=None\n",
    ")"
   ]
  },
  {
   "cell_type": "code",
   "execution_count": 43,
   "metadata": {
    "execution": {
     "iopub.execute_input": "2021-11-16T19:35:21.471731Z",
     "iopub.status.busy": "2021-11-16T19:35:21.471111Z",
     "iopub.status.idle": "2021-11-16T19:35:26.295030Z",
     "shell.execute_reply": "2021-11-16T19:35:26.293871Z",
     "shell.execute_reply.started": "2021-11-16T19:35:21.471673Z"
    },
    "id": "66F6FLr-O-3-"
   },
   "outputs": [],
   "source": [
    "# uncomment for pretarined weights.\n",
    "# densenet_model = DenseNet169(\n",
    "#     include_top=False,\n",
    "#     weights= \"imagenet\",\n",
    "#     input_tensor=None,\n",
    "#     input_shape=input_shape_densenet,\n",
    "#     pooling=None\n",
    "# )"
   ]
  },
  {
   "cell_type": "code",
   "execution_count": 10,
   "metadata": {
    "execution": {
     "iopub.execute_input": "2021-11-16T20:11:16.127275Z",
     "iopub.status.busy": "2021-11-16T20:11:16.126532Z",
     "iopub.status.idle": "2021-11-16T20:11:16.150360Z",
     "shell.execute_reply": "2021-11-16T20:11:16.149582Z",
     "shell.execute_reply.started": "2021-11-16T20:11:16.127236Z"
    }
   },
   "outputs": [],
   "source": [
    "# comment if using pretarined\n",
    "densenet_model.trainable = True"
   ]
  },
  {
   "cell_type": "code",
   "execution_count": 44,
   "metadata": {
    "execution": {
     "iopub.execute_input": "2021-11-16T19:35:26.297752Z",
     "iopub.status.busy": "2021-11-16T19:35:26.297381Z",
     "iopub.status.idle": "2021-11-16T19:35:26.352527Z",
     "shell.execute_reply": "2021-11-16T19:35:26.351295Z",
     "shell.execute_reply.started": "2021-11-16T19:35:26.297706Z"
    },
    "id": "a9wnQaBebGZ3"
   },
   "outputs": [],
   "source": [
    "# uncomment for transfer Learning.\n",
    "# densenet_model.trainable = True\n",
    "# for layer in densenet_model.layers:\n",
    "#     if 'conv5' in layer.name:\n",
    "#         layer.trainable = True\n",
    "#     else:\n",
    "#         layer.trainable = False"
   ]
  },
  {
   "cell_type": "code",
   "execution_count": 11,
   "metadata": {
    "execution": {
     "iopub.execute_input": "2021-11-16T20:11:21.847858Z",
     "iopub.status.busy": "2021-11-16T20:11:21.847427Z",
     "iopub.status.idle": "2021-11-16T20:11:23.016706Z",
     "shell.execute_reply": "2021-11-16T20:11:23.015873Z",
     "shell.execute_reply.started": "2021-11-16T20:11:21.847822Z"
    },
    "id": "uvfa9NGebUAD"
   },
   "outputs": [],
   "source": [
    "input_s = Input(input_shape_densenet)\n",
    "new_layer = densenet_model(input_s)"
   ]
  },
  {
   "cell_type": "markdown",
   "metadata": {
    "id": "tkvE3UWgspu6"
   },
   "source": [
    "Flatining the layer and adding FC layers."
   ]
  },
  {
   "cell_type": "code",
   "execution_count": 12,
   "metadata": {
    "execution": {
     "iopub.execute_input": "2021-11-16T20:11:23.732226Z",
     "iopub.status.busy": "2021-11-16T20:11:23.731568Z",
     "iopub.status.idle": "2021-11-16T20:11:23.768053Z",
     "shell.execute_reply": "2021-11-16T20:11:23.767353Z",
     "shell.execute_reply.started": "2021-11-16T20:11:23.732192Z"
    },
    "id": "8X_-VVDYbo9Y"
   },
   "outputs": [],
   "source": [
    "new_layer = Flatten()(new_layer)\n",
    "\n",
    "new_layer = BatchNormalization()(new_layer)\n",
    "\n",
    "new_layer = Dense(units=768, activation='relu', kernel_initializer= initial)(new_layer)"
   ]
  },
  {
   "cell_type": "code",
   "execution_count": 13,
   "metadata": {
    "execution": {
     "iopub.execute_input": "2021-11-16T20:11:26.636323Z",
     "iopub.status.busy": "2021-11-16T20:11:26.636070Z",
     "iopub.status.idle": "2021-11-16T20:11:26.664987Z",
     "shell.execute_reply": "2021-11-16T20:11:26.664322Z",
     "shell.execute_reply.started": "2021-11-16T20:11:26.636295Z"
    },
    "id": "w2IFLDZQborW"
   },
   "outputs": [],
   "source": [
    "new_layer = Dropout(0.4)(new_layer)\n",
    "\n",
    "new_layer = BatchNormalization()(new_layer)\n",
    "\n",
    "new_layer = Dense(units=512, activation='relu', kernel_initializer= initial)(new_layer)"
   ]
  },
  {
   "cell_type": "markdown",
   "metadata": {
    "id": "-vTMCF2Ys1Ic"
   },
   "source": [
    "Output layer with Softmax Activation funaction."
   ]
  },
  {
   "cell_type": "code",
   "execution_count": 14,
   "metadata": {
    "execution": {
     "iopub.execute_input": "2021-11-16T20:11:28.942022Z",
     "iopub.status.busy": "2021-11-16T20:11:28.941145Z",
     "iopub.status.idle": "2021-11-16T20:11:28.959357Z",
     "shell.execute_reply": "2021-11-16T20:11:28.958684Z",
     "shell.execute_reply.started": "2021-11-16T20:11:28.941969Z"
    },
    "id": "8ZqvqiepbceC"
   },
   "outputs": [],
   "source": [
    "new_layer = Dropout(0.4)(new_layer)\n",
    "\n",
    "output = Dense(units=256, activation='softmax', kernel_initializer= initial)(new_layer)"
   ]
  },
  {
   "cell_type": "markdown",
   "metadata": {
    "id": "CDohNkD8s8br"
   },
   "source": [
    "Printing Model Summary."
   ]
  },
  {
   "cell_type": "code",
   "execution_count": 15,
   "metadata": {
    "execution": {
     "iopub.execute_input": "2021-11-16T20:11:31.321607Z",
     "iopub.status.busy": "2021-11-16T20:11:31.321350Z",
     "iopub.status.idle": "2021-11-16T20:11:31.372048Z",
     "shell.execute_reply": "2021-11-16T20:11:31.371292Z",
     "shell.execute_reply.started": "2021-11-16T20:11:31.321580Z"
    },
    "id": "FmgFyxs9cRPA",
    "outputId": "aa560d9a-b834-4588-be19-74df58c8c04c"
   },
   "outputs": [],
   "source": [
    "densenet_model = Model(inputs=input_s, outputs=output)\n",
    "densenet_model.summary()"
   ]
  },
  {
   "cell_type": "markdown",
   "metadata": {
    "id": "-M9fT-7ZtCXA"
   },
   "source": [
    "Compiling the model."
   ]
  },
  {
   "cell_type": "code",
   "execution_count": 16,
   "metadata": {
    "execution": {
     "iopub.execute_input": "2021-11-16T20:11:38.634946Z",
     "iopub.status.busy": "2021-11-16T20:11:38.634278Z",
     "iopub.status.idle": "2021-11-16T20:11:38.660493Z",
     "shell.execute_reply": "2021-11-16T20:11:38.659774Z",
     "shell.execute_reply.started": "2021-11-16T20:11:38.634895Z"
    },
    "id": "R0I6aLiDdAhj"
   },
   "outputs": [],
   "source": [
    "densenet_model.compile(loss='binary_crossentropy', optimizer='Adam', metrics=['accuracy'])"
   ]
  },
  {
   "cell_type": "markdown",
   "metadata": {
    "id": "xVidqWfhtIw4"
   },
   "source": [
    "Fitting the model.\n",
    "\n",
    "This is  pretrained network for 3 Run with 10 epochs."
   ]
  },
  {
   "cell_type": "code",
   "execution_count": 51,
   "metadata": {
    "execution": {
     "iopub.execute_input": "2021-11-16T19:35:48.649280Z",
     "iopub.status.busy": "2021-11-16T19:35:48.648333Z",
     "iopub.status.idle": "2021-11-16T20:03:54.914594Z",
     "shell.execute_reply": "2021-11-16T20:03:54.913577Z",
     "shell.execute_reply.started": "2021-11-16T19:35:48.649226Z"
    },
    "id": "0enbwf6mdJau",
    "outputId": "3533c503-a562-463f-ea60-7618a4049202"
   },
   "outputs": [],
   "source": [
    "# # uncomment for transfer Learning.\n",
    "# previous = densenet_model.fit(train_batch, validation_data=valid_batch, epochs=10, verbose=1)"
   ]
  },
  {
   "cell_type": "markdown",
   "metadata": {},
   "source": [
    "Fitting the model.\n",
    "\n",
    "This is model from scratch network for single Run with 50 epochs."
   ]
  },
  {
   "cell_type": "code",
   "execution_count": null,
   "metadata": {
    "execution": {
     "iopub.execute_input": "2021-11-16T20:12:17.166422Z",
     "iopub.status.busy": "2021-11-16T20:12:17.166150Z"
    }
   },
   "outputs": [],
   "source": [
    "from_scratch = densenet_model.fit(train_batch, validation_data=valid_batch, epochs=50, verbose=1)"
   ]
  }
 ],
 "metadata": {
  "kernelspec": {
   "display_name": "Python 3 (ipykernel)",
   "language": "python",
   "name": "python3"
  },
  "language_info": {
   "codemirror_mode": {
    "name": "ipython",
    "version": 3
   },
   "file_extension": ".py",
   "mimetype": "text/x-python",
   "name": "python",
   "nbconvert_exporter": "python",
   "pygments_lexer": "ipython3",
   "version": "3.7.11"
  }
 },
 "nbformat": 4,
 "nbformat_minor": 4
}
